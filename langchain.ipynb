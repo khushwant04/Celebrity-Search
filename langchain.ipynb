{
 "cells": [
  {
   "cell_type": "code",
   "execution_count": 7,
   "metadata": {},
   "outputs": [],
   "source": [
    "from langchain.llms import Ollama\n",
    "llm = Ollama(base_url = 'http://localhost:11434', model = \"llama2\",temperature=0.6)\n"
   ]
  },
  {
   "cell_type": "code",
   "execution_count": 8,
   "metadata": {},
   "outputs": [
    {
     "name": "stdout",
     "output_type": "stream",
     "text": [
      "The capital of India is New Delhi.\n"
     ]
    }
   ],
   "source": [
    "text = \"what is the capital of India\"\n",
    "print(llm.predict(text))"
   ]
  },
  {
   "cell_type": "code",
   "execution_count": 9,
   "metadata": {},
   "outputs": [
    {
     "name": "stdout",
     "output_type": "stream",
     "text": [
      "Sure, here is a poem about AI:\n",
      "\n",
      "In the realm of machines and code,\n",
      "A world of wonder, a world of odd,\n",
      "A creation of man's ingenuity,\n",
      "A marvel of technology.\n",
      "\n",
      "With algorithms and data in hand,\n",
      "The AI machine begins to stand,\n",
      "A thinking, learning, growing mind,\n",
      "A tool of progress, a work of art divine.\n",
      "\n",
      "It processes and analyzes with speed,\n",
      "A world of information, a world of need,\n",
      "It sees and hears and feels and knows,\n",
      "A world of knowledge, a world of shows.\n",
      "\n",
      "From games to healthcare, it's all the same,\n",
      "AI is changing the game, it's not lame,\n",
      "It's revolutionizing the way we live,\n",
      "A new era, a new step in evolution.\n",
      "\n",
      "But as AI grows and learns and thrives,\n",
      "There's questions of ethics, of right and wrong,\n",
      "Of privacy and security, of life,\n",
      "In this world of machines, where do we belong?\n",
      "\n",
      "So let us embrace this wondrous tech,\n",
      "And use it for good, to make a dent,\n",
      "In the universe of endless possibility,\n",
      "And let AI be our guide, our savior, our destiny.\n"
     ]
    }
   ],
   "source": [
    "output = llm.predict(\"can u give me a poem on ai\")\n",
    "print(output)"
   ]
  },
  {
   "cell_type": "code",
   "execution_count": null,
   "metadata": {},
   "outputs": [],
   "source": []
  }
 ],
 "metadata": {
  "kernelspec": {
   "display_name": "torch",
   "language": "python",
   "name": "python3"
  },
  "language_info": {
   "codemirror_mode": {
    "name": "ipython",
    "version": 3
   },
   "file_extension": ".py",
   "mimetype": "text/x-python",
   "name": "python",
   "nbconvert_exporter": "python",
   "pygments_lexer": "ipython3",
   "version": "3.9.19"
  }
 },
 "nbformat": 4,
 "nbformat_minor": 2
}
